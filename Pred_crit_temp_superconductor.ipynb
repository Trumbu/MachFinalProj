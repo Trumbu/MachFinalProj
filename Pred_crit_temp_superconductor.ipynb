{
 "cells": [
  {
   "cell_type": "markdown",
   "metadata": {},
   "source": [
    "This code is an attempt to predict the critical temperature of superconductors. Kam Hamidieh wrote a paper on \"A Dat-Driven Statistical Model for Predicting the Critical Temperature of a Superconductor\". Dr. Hamidieh wrote his prediction code in R. Here we will predict using python.\n",
    "( The data came in as Rdata from https://github.com/khamidieh/predict_tc )"
   ]
  },
  {
   "cell_type": "markdown",
   "metadata": {},
   "source": [
    "# Importing"
   ]
  },
  {
   "cell_type": "code",
   "execution_count": 35,
   "metadata": {
    "scrolled": true
   },
   "outputs": [
    {
     "name": "stdout",
     "output_type": "stream",
     "text": [
      "A-data:  (21263, 82)\n",
      "A-labels:  (82,)\n",
      "0 number_of_elements\n",
      "1 mean_atomic_mass\n",
      "2 wtd_mean_atomic_mass\n",
      "3 gmean_atomic_mass\n",
      "4 wtd_gmean_atomic_mass\n",
      "5 entropy_atomic_mass\n",
      "6 wtd_entropy_atomic_mass\n",
      "7 range_atomic_mass\n",
      "8 wtd_range_atomic_mass\n",
      "9 std_atomic_mass\n",
      "10 wtd_std_atomic_mass\n",
      "11 mean_fie\n",
      "12 wtd_mean_fie\n",
      "13 gmean_fie\n",
      "14 wtd_gmean_fie\n",
      "15 entropy_fie\n",
      "16 wtd_entropy_fie\n",
      "17 range_fie\n",
      "18 wtd_range_fie\n",
      "19 std_fie\n",
      "20 wtd_std_fie\n",
      "21 mean_atomic_radius\n",
      "22 wtd_mean_atomic_radius\n",
      "23 gmean_atomic_radius\n",
      "24 wtd_gmean_atomic_radius\n",
      "25 entropy_atomic_radius\n",
      "26 wtd_entropy_atomic_radius\n",
      "27 range_atomic_radius\n",
      "28 wtd_range_atomic_radius\n",
      "29 std_atomic_radius\n",
      "30 wtd_std_atomic_radius\n",
      "31 mean_Density\n",
      "32 wtd_mean_Density\n",
      "33 gmean_Density\n",
      "34 wtd_gmean_Density\n",
      "35 entropy_Density\n",
      "36 wtd_entropy_Density\n",
      "37 range_Density\n",
      "38 wtd_range_Density\n",
      "39 std_Density\n",
      "40 wtd_std_Density\n",
      "41 mean_ElectronAffinity\n",
      "42 wtd_mean_ElectronAffinity\n",
      "43 gmean_ElectronAffinity\n",
      "44 wtd_gmean_ElectronAffinity\n",
      "45 entropy_ElectronAffinity\n",
      "46 wtd_entropy_ElectronAffinity\n",
      "47 range_ElectronAffinity\n",
      "48 wtd_range_ElectronAffinity\n",
      "49 std_ElectronAffinity\n",
      "50 wtd_std_ElectronAffinity\n",
      "51 mean_FusionHeat\n",
      "52 wtd_mean_FusionHeat\n",
      "53 gmean_FusionHeat\n",
      "54 wtd_gmean_FusionHeat\n",
      "55 entropy_FusionHeat\n",
      "56 wtd_entropy_FusionHeat\n",
      "57 range_FusionHeat\n",
      "58 wtd_range_FusionHeat\n",
      "59 std_FusionHeat\n",
      "60 wtd_std_FusionHeat\n",
      "61 mean_ThermalConductivity\n",
      "62 wtd_mean_ThermalConductivity\n",
      "63 gmean_ThermalConductivity\n",
      "64 wtd_gmean_ThermalConductivity\n",
      "65 entropy_ThermalConductivity\n",
      "66 wtd_entropy_ThermalConductivity\n",
      "67 range_ThermalConductivity\n",
      "68 wtd_range_ThermalConductivity\n",
      "69 std_ThermalConductivity\n",
      "70 wtd_std_ThermalConductivity\n",
      "71 mean_Valence\n",
      "72 wtd_mean_Valence\n",
      "73 gmean_Valence\n",
      "74 wtd_gmean_Valence\n",
      "75 entropy_Valence\n",
      "76 wtd_entropy_Valence\n",
      "77 range_Valence\n",
      "78 wtd_range_Valence\n",
      "79 std_Valence\n",
      "80 wtd_std_Valence\n",
      "81 critical_temp\n",
      "B-data:  (21263, 88)\n",
      "B-labels:  (88,)\n",
      "0 H\n",
      "1 He\n",
      "2 Li\n",
      "3 Be\n",
      "4 B\n",
      "5 C\n",
      "6 N\n",
      "7 O\n",
      "8 F\n",
      "9 Ne\n",
      "10 Na\n",
      "11 Mg\n",
      "12 Al\n",
      "13 Si\n",
      "14 P\n",
      "15 S\n",
      "16 Cl\n",
      "17 Ar\n",
      "18 K\n",
      "19 Ca\n",
      "20 Sc\n",
      "21 Ti\n",
      "22 V\n",
      "23 Cr\n",
      "24 Mn\n",
      "25 Fe\n",
      "26 Co\n",
      "27 Ni\n",
      "28 Cu\n",
      "29 Zn\n",
      "30 Ga\n",
      "31 Ge\n",
      "32 As\n",
      "33 Se\n",
      "34 Br\n",
      "35 Kr\n",
      "36 Rb\n",
      "37 Sr\n",
      "38 Y\n",
      "39 Zr\n",
      "40 Nb\n",
      "41 Mo\n",
      "42 Tc\n",
      "43 Ru\n",
      "44 Rh\n",
      "45 Pd\n",
      "46 Ag\n",
      "47 Cd\n",
      "48 In\n",
      "49 Sn\n",
      "50 Sb\n",
      "51 Te\n",
      "52 I\n",
      "53 Xe\n",
      "54 Cs\n",
      "55 Ba\n",
      "56 La\n",
      "57 Ce\n",
      "58 Pr\n",
      "59 Nd\n",
      "60 Pm\n",
      "61 Sm\n",
      "62 Eu\n",
      "63 Gd\n",
      "64 Tb\n",
      "65 Dy\n",
      "66 Ho\n",
      "67 Er\n",
      "68 Tm\n",
      "69 Yb\n",
      "70 Lu\n",
      "71 Hf\n",
      "72 Ta\n",
      "73 W\n",
      "74 Re\n",
      "75 Os\n",
      "76 Ir\n",
      "77 Pt\n",
      "78 Au\n",
      "79 Hg\n",
      "80 Tl\n",
      "81 Pb\n",
      "82 Bi\n",
      "83 Po\n",
      "84 At\n",
      "85 Rn\n",
      "86 critical_temp\n",
      "87 material\n"
     ]
    }
   ],
   "source": [
    "import numpy as np\n",
    "import matplotlib.pyplot as plt\n",
    "import pandas as pd\n",
    "\n",
    "a = pd.read_csv('train.csv', sep=',')\n",
    "adata = a.values\n",
    "print('A-data: ', np.shape(adata))\n",
    "alabel = list(a)\n",
    "print('A-labels: ', np.shape(alabel))\n",
    "for i in range(0,82):\n",
    "    print(i,alabel[i])\n",
    "\n",
    "b = pd.read_csv('unique_m.csv', sep=',')\n",
    "bdata = b.values\n",
    "print('B-data: ', np.shape(bdata))\n",
    "blabel = list(b)\n",
    "print('B-labels: ', np.shape(blabel))\n",
    "for i in range(0,88):\n",
    "    print(i,blabel[i])\n"
   ]
  },
  {
   "cell_type": "markdown",
   "metadata": {},
   "source": [
    "# Visualizing"
   ]
  },
  {
   "cell_type": "code",
   "execution_count": 46,
   "metadata": {},
   "outputs": [
    {
     "data": {
      "image/png": "[encoded data removed]",
      "text/plain": [
       "<Figure size 432x288 with 1 Axes>"
      ]
     },
     "metadata": {
      "needs_background": "light"
     },
     "output_type": "display_data"
    },
    {
     "data": {
      "image/png": "[encoded data removed]",
      "text/plain": [
       "<Figure size 432x288 with 1 Axes>"
      ]
     },
     "metadata": {
      "needs_background": "light"
     },
     "output_type": "display_data"
    },
    {
     "data": {
      "image/png": "[encoded data removed]",
      "text/plain": [
       "<Figure size 432x288 with 1 Axes>"
      ]
     },
     "metadata": {
      "needs_background": "light"
     },
     "output_type": "display_data"
    },
    {
     "data": {
      "image/png": "[encoded data removed]",
      "text/plain": [
       "<Figure size 432x288 with 1 Axes>"
      ]
     },
     "metadata": {
      "needs_background": "light"
     },
     "output_type": "display_data"
    },
    {
     "name": "stdout",
     "output_type": "stream",
     "text": [
      "Highest critical temp:  H2S1  at  185.0 K\n"
     ]
    }
   ],
   "source": [
    "def graph(x,y):\n",
    "    plt.scatter(data[:,x],data[:,y])\n",
    "    plt.xlabel(label[x])\n",
    "    plt.ylabel(label[y])\n",
    "    plt.show()\n",
    "grapha(81,31)\n",
    "grapha(81,41)\n",
    "grapha(81,61)\n",
    "grapha(81,71)\n",
    "\n",
    "\n",
    "print('Highest critical temp: ', bdata[np.argmax(bdata[:,86]),87], ' at ', max(bdata[:,86]), 'K')\n"
   ]
  },
  {
   "cell_type": "markdown",
   "metadata": {},
   "source": [
    "# Random Forest"
   ]
  },
  {
   "cell_type": "markdown",
   "metadata": {},
   "source": [
    "All super conductors ---- https://scikit-learn.org/stable/modules/generated/sklearn.ensemble.RandomForestClassifier.html"
   ]
  },
  {
   "cell_type": "code",
   "execution_count": null,
   "metadata": {},
   "outputs": [],
   "source": [
    "from sklearn.model_selection import train_test_split\n",
    "from sklearn.metrics import mean_squared_error, r2_score\n",
    "xtrain, xtest, ytrain, ytest = train_test_split(bdata[:,0:85],bdata[:,86],random_state=0)\n"
   ]
  },
  {
   "cell_type": "markdown",
   "metadata": {},
   "source": [
    "HTC: Cu & O, and Tc>10k"
   ]
  },
  {
   "cell_type": "code",
   "execution_count": null,
   "metadata": {},
   "outputs": [],
   "source": []
  },
  {
   "cell_type": "markdown",
   "metadata": {},
   "source": [
    "Fe based sc: Fe"
   ]
  },
  {
   "cell_type": "code",
   "execution_count": null,
   "metadata": {},
   "outputs": [],
   "source": []
  },
  {
   "cell_type": "markdown",
   "metadata": {},
   "source": [
    "Conventional sc (BCS) Tc<10k"
   ]
  }
 ],
 "metadata": {
  "kernelspec": {
   "display_name": "Python 3",
   "language": "python",
   "name": "python3"
  },
  "language_info": {
   "codemirror_mode": {
    "name": "ipython",
    "version": 3
   },
   "file_extension": ".py",
   "mimetype": "text/x-python",
   "name": "python",
   "nbconvert_exporter": "python",
   "pygments_lexer": "ipython3",
   "version": "3.7.0"
  }
 },
 "nbformat": 4,
 "nbformat_minor": 2
}
